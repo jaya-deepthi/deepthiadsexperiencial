{
  "nbformat": 4,
  "nbformat_minor": 0,
  "metadata": {
    "colab": {
      "name": "adsexperiencial-2.ipynb",
      "provenance": [],
      "collapsed_sections": [],
      "authorship_tag": "ABX9TyPT6YAFEtctOQd/u0I1VCrW",
      "include_colab_link": true
    },
    "kernelspec": {
      "name": "python3",
      "display_name": "Python 3"
    }
  },
  "cells": [
    {
      "cell_type": "markdown",
      "metadata": {
        "id": "view-in-github",
        "colab_type": "text"
      },
      "source": [
        "<a href=\"https://colab.research.google.com/github/jaya-deepthi/deepthiadsexperiencial/blob/main/adsexperiencial_2.ipynb\" target=\"_parent\"><img src=\"https://colab.research.google.com/assets/colab-badge.svg\" alt=\"Open In Colab\"/></a>"
      ]
    },
    {
      "cell_type": "code",
      "metadata": {
        "id": "QnHCoiDXr5dg"
      },
      "source": [
        "import pandas as pd\n",
        "import numpy as np\n",
        "\n",
        "matches=pd.read_csv(\"/content/match_data.csv\")"
      ],
      "execution_count": null,
      "outputs": []
    },
    {
      "cell_type": "markdown",
      "metadata": {
        "id": "R-WhTBDD5I93"
      },
      "source": [
        "# Data Cleaning"
      ]
    },
    {
      "cell_type": "code",
      "metadata": {
        "id": "1VNQqmwRsJrQ"
      },
      "source": [
        "conditions = [matches[\"venue\"] == \"Rajiv Gandhi International Stadium, Uppal\",matches[\"venue\"] == \"Maharashtra Cricket Association Stadium\",\n",
        "              matches[\"venue\"] == \"Saurashtra Cricket Association Stadium\", matches[\"venue\"] == \"Holkar Cricket Stadium\",\n",
        "              matches[\"venue\"] == \"M Chinnaswamy Stadium\",matches[\"venue\"] == \"Wankhede Stadium\",\n",
        "              matches[\"venue\"] == \"Eden Gardens\",matches[\"venue\"] == \"Feroz Shah Kotla\",\n",
        "              matches[\"venue\"] == \"Punjab Cricket Association IS Bindra Stadium, Mohali\",matches[\"venue\"] == \"Green Park\",\n",
        "              matches[\"venue\"] == \"Punjab Cricket Association Stadium, Mohali\",matches[\"venue\"] == \"Dr DY Patil Sports Academy\",\n",
        "              matches[\"venue\"] == \"Sawai Mansingh Stadium\", matches[\"venue\"] == \"MA Chidambaram Stadium, Chepauk\", \n",
        "              matches[\"venue\"] == \"Newlands\", matches[\"venue\"] == \"St George's Park\" , \n",
        "              matches[\"venue\"] == \"Kingsmead\", matches[\"venue\"] == \"SuperSport Park\",\n",
        "              matches[\"venue\"] == \"Buffalo Park\", matches[\"venue\"] == \"New Wanderers Stadium\",\n",
        "              matches[\"venue\"] == \"De Beers Diamond Oval\", matches[\"venue\"] == \"OUTsurance Oval\", \n",
        "              matches[\"venue\"] == \"Brabourne Stadium\",matches[\"venue\"] == \"Sardar Patel Stadium\", \n",
        "              matches[\"venue\"] == \"Barabati Stadium\", matches[\"venue\"] == \"Vidarbha Cricket Association Stadium, Jamtha\",\n",
        "              matches[\"venue\"] == \"Himachal Pradesh Cricket Association Stadium\",matches[\"venue\"] == \"Nehru Stadium\",\n",
        "              matches[\"venue\"] == \"Dr. Y.S. Rajasekhara Reddy ACA-VDCA Cricket Stadium\",matches[\"venue\"] == \"Subrata Roy Sahara Stadium\",\n",
        "              matches[\"venue\"] == \"Shaheed Veer Narayan Singh International Stadium\",matches[\"venue\"] == \"JSCA International Stadium Complex\",\n",
        "              matches[\"venue\"] == \"Sheikh Zayed Stadium\",matches[\"venue\"] == \"Sharjah Cricket Stadium\",\n",
        "              matches[\"venue\"] == \"Dubai International Cricket Stadium\",matches[\"venue\"] == \"M. A. Chidambaram Stadium\",\n",
        "              matches[\"venue\"] == \"Feroz Shah Kotla Ground\",matches[\"venue\"] == \"M. Chinnaswamy Stadium\",\n",
        "              matches[\"venue\"] == \"Rajiv Gandhi Intl. Cricket Stadium\" ,matches[\"venue\"] == \"IS Bindra Stadium\",matches[\"venue\"] == \"ACA-VDCA Stadium\"]\n",
        "values = ['Hyderabad', 'Mumbai', 'Rajkot',\"Indore\",\"Bengaluru\",\"Mumbai\",\"Kolkata\",\"Delhi\",\"Mohali\",\"Kanpur\",\"Mohali\",\"Pune\",\"Jaipur\",\"Chennai\",\"Cape Town\",\"Port Elizabeth\",\"Durban\",\n",
        "          \"Centurion\",'Eastern Cape','Johannesburg','Northern Cape','Bloemfontein','Mumbai','Ahmedabad','Cuttack','Jamtha','Dharamshala','Chennai','Visakhapatnam','Pune','Raipur','Ranchi',\n",
        "          'Abu Dhabi','Sharjah','Dubai','Chennai','Delhi','Bengaluru','Hyderabad','Mohali','Visakhapatnam']\n",
        "matches['city'] = np.where(matches['city'].isnull(),\n",
        "                              np.select(conditions, values),\n",
        "                              matches['city'])\n",
        "#removing the rows containing null values\n",
        "matches=matches[matches[\"winner\"].notna()]"
      ],
      "execution_count": null,
      "outputs": []
    },
    {
      "cell_type": "code",
      "metadata": {
        "id": "rw--Tx03sme9"
      },
      "source": [
        "matches[\"team2\"]=matches[\"team2\"].replace(\"Rising Pune Supergiant\",\"Rising Pune Supergiants\")\n",
        "matches[\"team1\"]=matches[\"team1\"].replace(\"Rising Pune Supergiant\",\"Rising Pune Supergiants\")\n",
        "matches[\"winner\"]=matches[\"winner\"].replace(\"Rising Pune Supergiant\",\"Rising Pune Supergiants\")\n",
        "matches[\"toss_winner\"]=matches[\"toss_winner\"].replace(\"Rising Pune Supergiant\",\"Rising Pune Supergiants\")"
      ],
      "execution_count": null,
      "outputs": []
    },
    {
      "cell_type": "markdown",
      "metadata": {
        "id": "TNecncLL5cEC"
      },
      "source": [
        "# Feature Engineering"
      ]
    },
    {
      "cell_type": "markdown",
      "metadata": {
        "id": "B9JK4zOPCbOD"
      },
      "source": [
        "here I am using label encoder to encode the labels into numeric form"
      ]
    },
    {
      "cell_type": "code",
      "metadata": {
        "id": "oqqYmu8hs2Wv"
      },
      "source": [
        "from sklearn.preprocessing import LabelEncoder\n",
        "encoder= LabelEncoder()\n",
        "matches[\"team1\"]=encoder.fit_transform(matches[\"team1\"])\n",
        "matches[\"team2\"]=encoder.fit_transform(matches[\"team2\"])\n",
        "matches[\"winner\"]=encoder.fit_transform(matches[\"winner\"].astype(str))\n",
        "matches[\"toss_winner\"]=encoder.fit_transform(matches[\"toss_winner\"])\n",
        "matches[\"venue\"]=encoder.fit_transform(matches[\"venue\"])"
      ],
      "execution_count": null,
      "outputs": []
    },
    {
      "cell_type": "markdown",
      "metadata": {
        "id": "Fu28zr9KDJpc"
      },
      "source": [
        "The value in the column team1_win will be 1 if team1 wins else 0, for column team1_toss_decision it will be 1 if team1 wins the toss and finally team1_bat will be 1 if team1 is batting first."
      ]
    },
    {
      "cell_type": "code",
      "metadata": {
        "id": "qCKswPr2tMdW"
      },
      "source": [
        "matches.loc[matches[\"winner\"]==matches[\"team1\"],\"team1_win\"]=1\n",
        "matches.loc[matches[\"winner\"]!=matches[\"team1\"],\"team1_win\"]=0\n",
        "\n",
        "#outcome variable team1_toss_win as a value of team1 winning the toss\n",
        "matches.loc[matches[\"toss_winner\"]==matches[\"team1\"],\"team1_toss_win\"]=1\n",
        "matches.loc[matches[\"toss_winner\"]!=matches[\"team1\"],\"team1_toss_win\"]=0\n",
        "\n",
        "#outcome variable team1_bat to depict if team1 bats first\n",
        "matches[\"team1_bat\"]=0\n",
        "matches.loc[(matches[\"team1_toss_win\"]==1) & (matches[\"toss_decision\"]==\"bat\"),\"team1_bat\"]=1\n"
      ],
      "execution_count": null,
      "outputs": []
    },
    {
      "cell_type": "markdown",
      "metadata": {
        "id": "3-PxPDwJA1f0"
      },
      "source": [
        "# Feature Selection"
      ]
    },
    {
      "cell_type": "markdown",
      "metadata": {
        "id": "0iKtGooPDlcy"
      },
      "source": [
        "Here I am removing the coloums having nearly 1 correlation coe with the other coloums."
      ]
    },
    {
      "cell_type": "code",
      "metadata": {
        "id": "Q-P7YzE0tSN9",
        "outputId": "9c03a3eb-a210-4c95-c163-5b91950fb1b4",
        "colab": {
          "base_uri": "https://localhost:8080/",
          "height": 516
        }
      },
      "source": [
        "prediction_df=matches[[\"team1\",\"team2\",\"team1_toss_win\",\"team1_bat\",\"team1_win\",\"venue\"]]\n",
        "\n",
        "#finding the higly correlated features\n",
        "correlated_features = set()\n",
        "correlation_matrix = prediction_df.drop('team1_win', axis=1).corr()\n",
        "print(correlation_matrix)\n",
        "\n",
        "for i in range(len(correlation_matrix.columns)):\n",
        "    for j in range(i):\n",
        "        if abs(correlation_matrix.iloc[i, j]) > 0.9:\n",
        "            column = correlation_matrix.columns[i]\n",
        "            correlated_features.add(column)\n",
        "            \n",
        "prediction_df.drop(columns=correlated_features)"
      ],
      "execution_count": null,
      "outputs": [
        {
          "output_type": "stream",
          "text": [
            "                   team1     team2  team1_toss_win  team1_bat     venue\n",
            "team1           1.000000 -0.113733       -0.056944  -0.142246  0.172634\n",
            "team2          -0.113733  1.000000        0.046833  -0.003217  0.006020\n",
            "team1_toss_win -0.056944  0.046833        1.000000   0.521315  0.001372\n",
            "team1_bat      -0.142246 -0.003217        0.521315   1.000000 -0.011217\n",
            "venue           0.172634  0.006020        0.001372  -0.011217  1.000000\n"
          ],
          "name": "stdout"
        },
        {
          "output_type": "execute_result",
          "data": {
            "text/html": [
              "<div>\n",
              "<style scoped>\n",
              "    .dataframe tbody tr th:only-of-type {\n",
              "        vertical-align: middle;\n",
              "    }\n",
              "\n",
              "    .dataframe tbody tr th {\n",
              "        vertical-align: top;\n",
              "    }\n",
              "\n",
              "    .dataframe thead th {\n",
              "        text-align: right;\n",
              "    }\n",
              "</style>\n",
              "<table border=\"1\" class=\"dataframe\">\n",
              "  <thead>\n",
              "    <tr style=\"text-align: right;\">\n",
              "      <th></th>\n",
              "      <th>team1</th>\n",
              "      <th>team2</th>\n",
              "      <th>team1_toss_win</th>\n",
              "      <th>team1_bat</th>\n",
              "      <th>team1_win</th>\n",
              "      <th>venue</th>\n",
              "    </tr>\n",
              "  </thead>\n",
              "  <tbody>\n",
              "    <tr>\n",
              "      <th>0</th>\n",
              "      <td>12</td>\n",
              "      <td>1</td>\n",
              "      <td>0.0</td>\n",
              "      <td>0</td>\n",
              "      <td>1.0</td>\n",
              "      <td>4</td>\n",
              "    </tr>\n",
              "    <tr>\n",
              "      <th>1</th>\n",
              "      <td>3</td>\n",
              "      <td>7</td>\n",
              "      <td>1.0</td>\n",
              "      <td>1</td>\n",
              "      <td>1.0</td>\n",
              "      <td>8</td>\n",
              "    </tr>\n",
              "    <tr>\n",
              "      <th>2</th>\n",
              "      <td>8</td>\n",
              "      <td>7</td>\n",
              "      <td>1.0</td>\n",
              "      <td>0</td>\n",
              "      <td>1.0</td>\n",
              "      <td>35</td>\n",
              "    </tr>\n",
              "    <tr>\n",
              "      <th>3</th>\n",
              "      <td>11</td>\n",
              "      <td>12</td>\n",
              "      <td>1.0</td>\n",
              "      <td>0</td>\n",
              "      <td>0.0</td>\n",
              "      <td>17</td>\n",
              "    </tr>\n",
              "    <tr>\n",
              "      <th>4</th>\n",
              "      <td>0</td>\n",
              "      <td>1</td>\n",
              "      <td>1.0</td>\n",
              "      <td>1</td>\n",
              "      <td>1.0</td>\n",
              "      <td>4</td>\n",
              "    </tr>\n",
              "    <tr>\n",
              "      <th>...</th>\n",
              "      <td>...</td>\n",
              "      <td>...</td>\n",
              "      <td>...</td>\n",
              "      <td>...</td>\n",
              "      <td>...</td>\n",
              "      <td>...</td>\n",
              "    </tr>\n",
              "    <tr>\n",
              "      <th>741</th>\n",
              "      <td>13</td>\n",
              "      <td>8</td>\n",
              "      <td>1.0</td>\n",
              "      <td>0</td>\n",
              "      <td>1.0</td>\n",
              "      <td>24</td>\n",
              "    </tr>\n",
              "    <tr>\n",
              "      <th>742</th>\n",
              "      <td>0</td>\n",
              "      <td>1</td>\n",
              "      <td>1.0</td>\n",
              "      <td>1</td>\n",
              "      <td>1.0</td>\n",
              "      <td>2</td>\n",
              "    </tr>\n",
              "    <tr>\n",
              "      <th>743</th>\n",
              "      <td>12</td>\n",
              "      <td>8</td>\n",
              "      <td>0.0</td>\n",
              "      <td>0</td>\n",
              "      <td>0.0</td>\n",
              "      <td>14</td>\n",
              "    </tr>\n",
              "    <tr>\n",
              "      <th>744</th>\n",
              "      <td>5</td>\n",
              "      <td>12</td>\n",
              "      <td>1.0</td>\n",
              "      <td>0</td>\n",
              "      <td>1.0</td>\n",
              "      <td>6</td>\n",
              "    </tr>\n",
              "    <tr>\n",
              "      <th>745</th>\n",
              "      <td>12</td>\n",
              "      <td>8</td>\n",
              "      <td>1.0</td>\n",
              "      <td>0</td>\n",
              "      <td>0.0</td>\n",
              "      <td>14</td>\n",
              "    </tr>\n",
              "  </tbody>\n",
              "</table>\n",
              "<p>734 rows × 6 columns</p>\n",
              "</div>"
            ],
            "text/plain": [
              "     team1  team2  team1_toss_win  team1_bat  team1_win  venue\n",
              "0       12      1             0.0          0        1.0      4\n",
              "1        3      7             1.0          1        1.0      8\n",
              "2        8      7             1.0          0        1.0     35\n",
              "3       11     12             1.0          0        0.0     17\n",
              "4        0      1             1.0          1        1.0      4\n",
              "..     ...    ...             ...        ...        ...    ...\n",
              "741     13      8             1.0          0        1.0     24\n",
              "742      0      1             1.0          1        1.0      2\n",
              "743     12      8             0.0          0        0.0     14\n",
              "744      5     12             1.0          0        1.0      6\n",
              "745     12      8             1.0          0        0.0     14\n",
              "\n",
              "[734 rows x 6 columns]"
            ]
          },
          "metadata": {
            "tags": []
          },
          "execution_count": 25
        }
      ]
    },
    {
      "cell_type": "code",
      "metadata": {
        "id": "FEoyc2HcuOp8",
        "outputId": "9544a46c-dc3d-4f62-b5bf-996657fc9000",
        "colab": {
          "base_uri": "https://localhost:8080/"
        }
      },
      "source": [
        "X = prediction_df.drop('team1_win', axis=1)\n",
        "target = prediction_df['team1_win']\n",
        "target=target.astype(int)\n",
        "import sklearn.linear_model as sk\n",
        "from sklearn.feature_selection import RFE\n",
        "logreg = sk.LogisticRegressionCV()\n",
        "rfe = RFE(logreg, 20)\n",
        "rfe = rfe.fit(X, target.values.ravel())\n",
        "#Checking for the features of they are important\n",
        "print(rfe.support_)"
      ],
      "execution_count": null,
      "outputs": [
        {
          "output_type": "stream",
          "text": [
            "[ True  True  True  True  True]\n"
          ],
          "name": "stdout"
        }
      ]
    },
    {
      "cell_type": "markdown",
      "metadata": {
        "id": "TQ5TS6wX8t_Q"
      },
      "source": [
        "# Splitting data"
      ]
    },
    {
      "cell_type": "code",
      "metadata": {
        "id": "fCiG-r4vtVMt"
      },
      "source": [
        "from sklearn.model_selection import train_test_split\n",
        "X_train, X_test, y_train, y_test = train_test_split(X, target, test_size=0.2, random_state=0,shuffle=True)\n"
      ],
      "execution_count": null,
      "outputs": []
    },
    {
      "cell_type": "markdown",
      "metadata": {
        "id": "_Jr34TjU82En"
      },
      "source": [
        "# Build the models"
      ]
    },
    {
      "cell_type": "code",
      "metadata": {
        "id": "i7284A-hvDPt",
        "outputId": "22da35f6-7952-4cfb-a701-10b3e3def5ba",
        "colab": {
          "base_uri": "https://localhost:8080/"
        }
      },
      "source": [
        "from sklearn.linear_model import LogisticRegression\n",
        "from sklearn.tree import DecisionTreeClassifier\n",
        "logreg = LogisticRegression()\n",
        "logreg.fit(X_train, y_train)\n",
        "y_pred = logreg.predict(X_test)\n",
        "print('Accuracy of Logistic Regression Classifier on test set: {:.4f}'.format(logreg.score(X_test, y_test)))\n",
        "\n",
        "#Decision Tree Classifier\n",
        "dtree=DecisionTreeClassifier()\n",
        "dtree.fit(X_train,y_train)\n",
        "y_pred = dtree.predict(X_test)\n",
        "print('Accuracy of Decision Tree Classifier on test set: {:.4f}'.format(dtree.score(X_test, y_test)))\n",
        "from sklearn.svm import SVC\n",
        "#SVM\n",
        "svm=SVC()\n",
        "svm.fit(X_train,y_train)\n",
        "y_pred = svm.predict(X_test)\n",
        "print('Accuracy of SVM Classifier on test set: {:.4f}'.format(svm.score(X_test, y_test)))\n",
        "from sklearn.ensemble import RandomForestClassifier\n",
        "#Random Forest Classifier\n",
        "randomForest= RandomForestClassifier(n_estimators=100)\n",
        "randomForest.fit(X_train,y_train)\n",
        "y_pred = randomForest.predict(X_test)\n",
        "print('Accuracy of Random Forest Classifier on test set: {:.4f}'.format(randomForest.score(X_test, y_test)))\n"
      ],
      "execution_count": null,
      "outputs": [
        {
          "output_type": "stream",
          "text": [
            "Accuracy of Logistic Regression Classifier on test set: 0.5578\n",
            "Accuracy of Decision Tree Classifier on test set: 0.5714\n",
            "Accuracy of SVM Classifier on test set: 0.5578\n",
            "Accuracy of Random Forest Classifier on test set: 0.5510\n"
          ],
          "name": "stdout"
        }
      ]
    },
    {
      "cell_type": "code",
      "metadata": {
        "id": "v7rEnvgS9SzB",
        "outputId": "fa9ceccb-eb38-4912-eeab-536275679660",
        "colab": {
          "base_uri": "https://localhost:8080/"
        }
      },
      "source": [
        "from sklearn.metrics import accuracy_score, confusion_matrix\n",
        "print(\"Confusion Matrix for random forest:\\n\")\n",
        "print(confusion_matrix(y_pred,y_test))"
      ],
      "execution_count": null,
      "outputs": [
        {
          "output_type": "stream",
          "text": [
            "Confusion Matrix for random forest:\n",
            "\n",
            "[[29 30]\n",
            " [36 52]]\n"
          ],
          "name": "stdout"
        }
      ]
    },
    {
      "cell_type": "markdown",
      "metadata": {
        "id": "oiApvGTF-LUE"
      },
      "source": [
        "# Models significance testing"
      ]
    },
    {
      "cell_type": "code",
      "metadata": {
        "id": "XHPlTEZjzmAD"
      },
      "source": [
        "from mlxtend.evaluate import paired_ttest_5x2cv\n",
        "t, p = paired_ttest_5x2cv(estimator1=logreg, estimator2=randomForest, X=X_train, y=y_train, scoring='accuracy', random_seed=1)"
      ],
      "execution_count": null,
      "outputs": []
    },
    {
      "cell_type": "code",
      "metadata": {
        "id": "XiE7wdIB1aRD",
        "outputId": "b6885b69-b708-45d5-8bc9-8dfce5708e6e",
        "colab": {
          "base_uri": "https://localhost:8080/"
        }
      },
      "source": [
        "print('P-value: %.3f, t-Statistic: %.3f' % (p, t))"
      ],
      "execution_count": null,
      "outputs": [
        {
          "output_type": "stream",
          "text": [
            "P-value: 0.750, t-Statistic: -0.337\n"
          ],
          "name": "stdout"
        }
      ]
    },
    {
      "cell_type": "code",
      "metadata": {
        "id": "Z9DhH1YT33oG"
      },
      "source": [
        "from mlxtend.evaluate import paired_ttest_5x2cv\n",
        "t1, p1 = paired_ttest_5x2cv(estimator1=logreg, estimator2=dtree, X=X_train, y=y_train, scoring='accuracy', random_seed=1)"
      ],
      "execution_count": null,
      "outputs": []
    },
    {
      "cell_type": "code",
      "metadata": {
        "id": "qLvvck834Aio",
        "outputId": "a06b712f-701a-4098-a4af-66b83b5b1500",
        "colab": {
          "base_uri": "https://localhost:8080/"
        }
      },
      "source": [
        "print('P-value: %.3f, t-Statistic: %.3f' % (p1, t1))"
      ],
      "execution_count": null,
      "outputs": [
        {
          "output_type": "stream",
          "text": [
            "P-value: 0.316, t-Statistic: 1.114\n"
          ],
          "name": "stdout"
        }
      ]
    },
    {
      "cell_type": "code",
      "metadata": {
        "id": "ZUSazPCs3r1O",
        "outputId": "5e8ceec3-2fc3-4de2-b8f2-455fca2210c1",
        "colab": {
          "base_uri": "https://localhost:8080/"
        }
      },
      "source": [
        "if p <= 0.05:\n",
        "\tprint('The Null Hypothesis Rejected : Difference between mean performance is probably real')\n",
        "else:\n",
        "\tprint('Fail to Reject the Null Hypothesis : Algorithms probably have the same performance')"
      ],
      "execution_count": null,
      "outputs": [
        {
          "output_type": "stream",
          "text": [
            "Fail to Reject the Null Hypothesis : Algorithms probably have the same performance\n"
          ],
          "name": "stdout"
        }
      ]
    },
    {
      "cell_type": "code",
      "metadata": {
        "id": "5EI6WJLH975M",
        "outputId": "125651fa-5697-46d2-caae-26f7c5e6278c",
        "colab": {
          "base_uri": "https://localhost:8080/"
        }
      },
      "source": [
        "if p1 <= 0.05:\n",
        "\tprint('The Null Hypothesis Rejected : Difference between mean performance is probably real')\n",
        "else:\n",
        "\tprint('Fail to Reject the Null Hypothesis : Algorithms probably have the same performance')"
      ],
      "execution_count": null,
      "outputs": [
        {
          "output_type": "stream",
          "text": [
            "Fail to Reject the Null Hypothesis : Algorithms probably have the same performance\n"
          ],
          "name": "stdout"
        }
      ]
    },
    {
      "cell_type": "markdown",
      "metadata": {
        "id": "9ucsgi7n_IVt"
      },
      "source": [
        "Here the accuracy scores are almost same. But here the accuracy scores are less because of the data set. Data set i chose has many null values & is not so perfect. which we can see thorugh EDA performed last time. Even though the accuracy is not high enough to be useful, it gives a basic idea about the strategies and methodologies used in designing a solution to the Machine Learning problem."
      ]
    }
  ]
}